{
  "nbformat": 4,
  "nbformat_minor": 0,
  "metadata": {
    "colab": {
      "name": "1_Get_news_twitter",
      "provenance": [],
      "include_colab_link": true
    },
    "kernelspec": {
      "name": "python3",
      "display_name": "Python 3"
    },
    "language_info": {
      "name": "python"
    }
  },
  "cells": [
    {
      "cell_type": "markdown",
      "metadata": {
        "id": "view-in-github",
        "colab_type": "text"
      },
      "source": [
        "<a href=\"https://colab.research.google.com/github/caiocmello/news-mood/blob/main/1_Get_news_twitter.ipynb\" target=\"_parent\"><img src=\"https://colab.research.google.com/assets/colab-badge.svg\" alt=\"Open In Colab\"/></a>"
      ]
    },
    {
      "cell_type": "code",
      "execution_count": null,
      "metadata": {
        "id": "B-Oeg6JPbuar"
      },
      "outputs": [],
      "source": [
        "!pip install twarc"
      ]
    },
    {
      "cell_type": "code",
      "source": [
        "from twarc import Twarc2\n",
        "! pip3 install --upgrade twarc\n",
        "!pip3 install --upgrade twarc-csv\n",
        "import numpy as np\n",
        "import pandas as pd\n",
        "import json\n",
        "from datetime import date, datetime, timezone"
      ],
      "metadata": {
        "id": "jgjzxOVub0R-"
      },
      "execution_count": 92,
      "outputs": []
    },
    {
      "cell_type": "code",
      "source": [
        "!twarc2 configure ##configure using your twitter keys"
      ],
      "metadata": {
        "id": "jZfJPn4Bb4EG",
        "colab": {
          "base_uri": "https://localhost:8080/"
        },
        "outputId": "211ad118-3131-4d88-bbc2-5bc317d90c90"
      },
      "execution_count": 3,
      "outputs": [
        {
          "output_type": "stream",
          "name": "stdout",
          "text": [
            "\n",
            "👋  Hi I don't see a configuration file yet, so let's make one.\n",
            "\n",
            "Please follow these steps:\n",
            "\n",
            "1. visit https://developer.twitter.com/en/portal/\n",
            "2. create a project and an app\n",
            "3. go to your Keys and Tokens and generate your keys\n",
            "\n",
            "Please enter your Bearer Token (leave blank to skip to API key configuration): AAAAAAAAAAAAAAAAAAAAANrfQwEAAAAAiStYKVw4DXoSfTQOVStjTbrzt7k%3Duk64B4YcXTYpTDUVRkk0z8xMhbnWTGcWIzFAxcJUkbN3pELYpY\n",
            "(Optional) Add API keys and secrets for user mode authentication [y or n]? n\n",
            "\u001b[32m\n",
            "Your keys have been written to /root/.config/twarc/config\u001b[0m\n",
            "\n",
            "\n",
            "✨ ✨ ✨  Happy twarcing! ✨ ✨ ✨\n",
            "\n"
          ]
        }
      ]
    },
    {
      "cell_type": "code",
      "source": [
        "# Get timeline from tweet profile (BBCBreaking) from 2022-01-01 to 2022-07-24 file name bbc22_json\n",
        "!twarc2 timeline bbcbreaking --exclude-replies --exclude-retweets --start-time 2022-01-01 --end-time 2022-07-24 --use-search > bbc22_json"
      ],
      "metadata": {
        "colab": {
          "base_uri": "https://localhost:8080/"
        },
        "id": "sbtD_bWwLp6C",
        "outputId": "2138e843-da4f-4cdb-94d3-8ba68c00427d"
      },
      "execution_count": 46,
      "outputs": [
        {
          "output_type": "stream",
          "name": "stdout",
          "text": [
            "100% 17625600000/17625600000 [00:07<00:00, 2234607708.24it/s]\n"
          ]
        }
      ]
    },
    {
      "cell_type": "code",
      "source": [
        "# Flatten json to .csv 'bbc22.csv'\n",
        "!twarc2 csv bbc22_json bbc22.csv"
      ],
      "metadata": {
        "colab": {
          "base_uri": "https://localhost:8080/"
        },
        "id": "5CSxHlJZKXar",
        "outputId": "1af271c8-2f48-4e49-847d-de6c156924e8"
      },
      "execution_count": 47,
      "outputs": [
        {
          "output_type": "stream",
          "name": "stdout",
          "text": [
            "100% 1.45M/1.45M [00:00<00:00, 5.12MB/s]\n",
            "\n",
            "ℹ️\n",
            "Parsed 401 tweets objects from 5 lines in the input file.\n",
            "Wrote 401 rows and output 74 columns in the CSV.\n",
            "\n"
          ]
        }
      ]
    },
    {
      "cell_type": "markdown",
      "source": [
        ""
      ],
      "metadata": {
        "id": "D1ktywG_yEmR"
      }
    },
    {
      "cell_type": "code",
      "source": [
        "# Get only text from column 'data'\n",
        "texts = []\n",
        "for item in bbc17[\"data\"]:\n",
        "  for entry in item:\n",
        "    texts.append(entry[\"text\"])"
      ],
      "metadata": {
        "id": "EcNLaj52cZlW"
      },
      "execution_count": 12,
      "outputs": []
    },
    {
      "cell_type": "code",
      "source": [
        "# From list of text, get only URLs\n",
        "URL = []\n",
        "for text in texts:\n",
        "  clean_url = re.findall(\"http[s]?://(?:[a-zA-Z]|[0-9]|[$-_@.&+]|[!*\\(\\),]|(?:%[0-9a-fA-F][0-9a-fA-F]))+\", text)\n",
        "  URL.append(clean_url)"
      ],
      "metadata": {
        "id": "9NUr6Ya5cf8f"
      },
      "execution_count": 11,
      "outputs": []
    },
    {
      "cell_type": "code",
      "source": [
        "# Transform list of URLs into Pandas dataframe\n",
        "df_url = pd.DataFrame(URL)"
      ],
      "metadata": {
        "id": "H9A1vE_Rcwly"
      },
      "execution_count": null,
      "outputs": []
    },
    {
      "cell_type": "code",
      "source": [
        "# Save dataframe into CSV\n",
        "df_url.to_csv('df_url.csv')"
      ],
      "metadata": {
        "id": "njM6dK3tc6Nv"
      },
      "execution_count": 63,
      "outputs": []
    }
  ]
}