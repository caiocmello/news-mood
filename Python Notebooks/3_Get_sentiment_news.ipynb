{
  "nbformat": 4,
  "nbformat_minor": 0,
  "metadata": {
    "colab": {
      "name": "Get_sentiment_news.ipynb",
      "provenance": []
    },
    "kernelspec": {
      "name": "python3",
      "display_name": "Python 3"
    },
    "language_info": {
      "name": "python"
    }
  },
  "cells": [
    {
      "cell_type": "code",
      "execution_count": null,
      "metadata": {
        "id": "YUoHki6Saqdh"
      },
      "outputs": [],
      "source": [
        "import pandas as pd\n",
        "from nltk.sentiment.vader import SentimentIntensityAnalyzer\n",
        "from nltk.sentiment.util import *\n",
        "import nltk\n",
        "nltk.download('vader_lexicon')"
      ]
    },
    {
      "cell_type": "code",
      "source": [
        "df = pd.read_csv('bbc2022.csv') # Change here to your file path "
      ],
      "metadata": {
        "id": "pAUEucGoaw1a"
      },
      "execution_count": null,
      "outputs": []
    },
    {
      "cell_type": "code",
      "source": [
        "SIA = SentimentIntensityAnalyzer()"
      ],
      "metadata": {
        "id": "exbbxIu3a0Q0"
      },
      "execution_count": null,
      "outputs": []
    },
    {
      "cell_type": "code",
      "source": [
        "df['Titles'] = df['Titles'].astype(str) # This will convert column type into string"
      ],
      "metadata": {
        "id": "tHqnZnT3bCYe"
      },
      "execution_count": null,
      "outputs": []
    },
    {
      "cell_type": "code",
      "source": [
        "# By running this, the sentiment should be calculated and a label (pos,neu,neg) assigned creating new columns to the DataFrame\n",
        "\n",
        "df['Polarity']=df['Titles'].apply(lambda x:SIA.polarity_scores(x)['compound'])\n",
        "df['Neutral Polarity']=df['Titles'].apply(lambda x:SIA.polarity_scores(x)['neu'])\n",
        "df['Negative Polarity']=df['Titles'].apply(lambda x:SIA.polarity_scores(x)['neg'])\n",
        "df['Positive Polarity']=df['Titles'].apply(lambda x:SIA.polarity_scores(x)['pos'])\n",
        "df['Sentiment']=''\n",
        "df.loc[df['Polarity']>0, 'Sentiment']='Positive'\n",
        "df.loc[df['Polarity']==0, 'Sentiment']='Neutral'\n",
        "df.loc[df['Polarity']<0, 'Sentiment']='Negative'"
      ],
      "metadata": {
        "id": "Yu_9G3HtbE0v"
      },
      "execution_count": null,
      "outputs": []
    },
    {
      "cell_type": "code",
      "source": [
        "df.head() # Check if it worked (new columns should appear)"
      ],
      "metadata": {
        "id": "jCH4vBM_bGGT"
      },
      "execution_count": null,
      "outputs": []
    },
    {
      "cell_type": "code",
      "source": [
        "df = df.drop(labels='Unnamed: 0', axis=1) # Remove column 'Unnamed: 0' in case it exists"
      ],
      "metadata": {
        "id": "-J_AFtPgbJw-"
      },
      "execution_count": null,
      "outputs": []
    },
    {
      "cell_type": "code",
      "source": [
        "df.set_index('url') # Set url column as index"
      ],
      "metadata": {
        "id": "Rlj37FU5bKyW"
      },
      "execution_count": null,
      "outputs": []
    },
    {
      "cell_type": "code",
      "source": [
        "df.to_csv('bbc2022_sentiment.csv') # change name of file according to the outlet and year"
      ],
      "metadata": {
        "id": "6eqX9M-wbLzV"
      },
      "execution_count": null,
      "outputs": []
    }
  ]
}