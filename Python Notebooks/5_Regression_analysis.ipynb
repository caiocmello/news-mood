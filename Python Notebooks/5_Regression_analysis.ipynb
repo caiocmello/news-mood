{
  "nbformat": 4,
  "nbformat_minor": 0,
  "metadata": {
    "colab": {
      "name": "5_Regression_analysis.ipynb",
      "provenance": [],
      "authorship_tag": "ABX9TyOGj+jZiswsValwwtccuNCO",
      "include_colab_link": true
    },
    "kernelspec": {
      "name": "python3",
      "display_name": "Python 3"
    },
    "language_info": {
      "name": "python"
    }
  },
  "cells": [
    {
      "cell_type": "markdown",
      "metadata": {
        "id": "view-in-github",
        "colab_type": "text"
      },
      "source": [
        "<a href=\"https://colab.research.google.com/github/caiocmello/news-mood/blob/main/5_Regression_analysis.ipynb\" target=\"_parent\"><img src=\"https://colab.research.google.com/assets/colab-badge.svg\" alt=\"Open In Colab\"/></a>"
      ]
    },
    {
      "cell_type": "code",
      "execution_count": null,
      "metadata": {
        "id": "Fxq-2Nk5BrIe"
      },
      "outputs": [],
      "source": [
        "import pandas as pd\n",
        "import numpy as np\n",
        "import datetime\n",
        "import statsmodels.formula.api as smf\n",
        "from scipy.stats import linregress"
      ]
    },
    {
      "cell_type": "code",
      "source": [
        "current_date = datetime.datetime.now()\n",
        "print(current_date)"
      ],
      "metadata": {
        "id": "bm2KKE92E5xN"
      },
      "execution_count": null,
      "outputs": []
    },
    {
      "cell_type": "code",
      "source": [
        "# Read in CSV file(s)\n",
        "df = pd.read_csv('sentiment_rollingmean_allyears.csv', parse_dates=['created_at'], index_col = ['created_at'])\n",
        "\n",
        "# Check all is OK\n",
        "df.info()"
      ],
      "metadata": {
        "id": "nKEwIou_B-sr"
      },
      "execution_count": null,
      "outputs": []
    },
    {
      "cell_type": "code",
      "source": [
        "# Rename columns to ensure they work with sm.ols()\n",
        "df = df.rename(columns={\"Positive Polarity\": \"pos\", \"Negative Polarity\": \"neg\"})"
      ],
      "metadata": {
        "id": "WKgHJXvmHXL5"
      },
      "execution_count": null,
      "outputs": []
    },
    {
      "cell_type": "code",
      "source": [
        "# Create new column 'day_num' - numerical representation of days elapsed\n",
        "df['day_num'] = (df.index - df.index.min())  / np.timedelta64(1,'D')\n",
        "\n",
        "print(df['day_num'])"
      ],
      "metadata": {
        "id": "FmQt4UAbFKgc"
      },
      "execution_count": null,
      "outputs": []
    },
    {
      "cell_type": "code",
      "source": [
        "# Run OLS regression on days elapsed against polarity\n",
        "polarity_result = smf.ols(formula = 'Polarity ~ day_num', data = df).fit()\n",
        "polarity_result.summary()"
      ],
      "metadata": {
        "id": "54AIafEmDMhQ"
      },
      "execution_count": null,
      "outputs": []
    },
    {
      "cell_type": "code",
      "source": [
        "# Run OLS regression on days elapsed against positivity\n",
        "pos_result = smf.ols(formula = 'pos ~ day_num', data = df).fit()\n",
        "pos_result.summary()"
      ],
      "metadata": {
        "id": "A4BCEn9aG-bk"
      },
      "execution_count": null,
      "outputs": []
    },
    {
      "cell_type": "code",
      "source": [
        "# Run OLS regression on days elapsed against negativity\n",
        "neg_result = smf.ols(formula = 'neg ~ day_num', data = df).fit()\n",
        "neg_result.summary()"
      ],
      "metadata": {
        "id": "b1OMhv65I0sw"
      },
      "execution_count": null,
      "outputs": []
    },
    {
      "cell_type": "code",
      "source": [
        "# Write new df to csv\n",
        "df.to_csv('bbc_sentiment_allyears.csv')"
      ],
      "metadata": {
        "id": "e9XTr5-HJ3UL"
      },
      "execution_count": null,
      "outputs": []
    }
  ]
}
