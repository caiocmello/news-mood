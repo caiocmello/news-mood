{
  "nbformat": 4,
  "nbformat_minor": 0,
  "metadata": {
    "colab": {
      "name": "4_Get_emotions_news.ipynb",
      "provenance": []
    },
    "kernelspec": {
      "name": "python3",
      "display_name": "Python 3"
    },
    "language_info": {
      "name": "python"
    }
  },
  "cells": [
    {
      "cell_type": "code",
      "execution_count": null,
      "metadata": {
        "id": "EpUhAdRHS7Yb"
      },
      "outputs": [],
      "source": [
        "!pip install NRCLex"
      ]
    },
    {
      "cell_type": "code",
      "source": [
        "from nrclex import NRCLex\n",
        "import plotly.express as px\n",
        "import pandas as pd\n",
        "from nltk.sentiment.vader import SentimentIntensityAnalyzer\n",
        "from nltk.sentiment.util import *\n",
        "import nltk\n",
        "nltk.download('vader_lexicon')"
      ],
      "metadata": {
        "id": "MTk3T4_RTBv4"
      },
      "execution_count": null,
      "outputs": []
    },
    {
      "cell_type": "code",
      "source": [
        "df = pd.read_csv('bbc2022.csv')"
      ],
      "metadata": {
        "id": "_y7Ys2vpTECk"
      },
      "execution_count": null,
      "outputs": []
    },
    {
      "cell_type": "code",
      "source": [
        "df['Titles'] = df['Titles'].astype(str)"
      ],
      "metadata": {
        "id": "6MvLz-mzTIUs"
      },
      "execution_count": null,
      "outputs": []
    },
    {
      "cell_type": "code",
      "source": [
        "str_titles = ','.join(df['Titles'])\n",
        "text_object = NRCLex(str_titles)\n",
        "text_object = NRCLex(str_titles)\n",
        "data = text_object.raw_emotion_scores"
      ],
      "metadata": {
        "id": "hGXbi952TJC9"
      },
      "execution_count": null,
      "outputs": []
    },
    {
      "cell_type": "code",
      "source": [
        "emotion_df = pd.DataFrame.from_dict(data, orient='index')\n",
        "emotion_df = emotion_df.reset_index()\n",
        "emotion_df = emotion_df.rename(columns={'index' : 'Emotion Classification' , 0: 'Emotion Count'})\n",
        "emotion_df = emotion_df.sort_values(by=['Emotion Count'], ascending=False)"
      ],
      "metadata": {
        "id": "SM2lEgonTQaj"
      },
      "execution_count": null,
      "outputs": []
    },
    {
      "cell_type": "code",
      "source": [
        "fig = px.bar(emotion_df, x='Emotion Count', y='Emotion Classification', \n",
        "             color = 'Emotion Classification', orientation='h', width = 800, height = 400)\n",
        "\n",
        "fig.show()"
      ],
      "metadata": {
        "id": "TiRs8Z0sTnEZ"
      },
      "execution_count": null,
      "outputs": []
    }
  ]
}