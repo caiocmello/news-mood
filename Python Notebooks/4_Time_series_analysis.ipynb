{
  "nbformat": 4,
  "nbformat_minor": 0,
  "metadata": {
    "colab": {
      "name": "4_Time_series_analysis.ipynb",
      "provenance": [],
      "collapsed_sections": [],
      "authorship_tag": "ABX9TyNBGXdBM1aoLp8aCxqOD9nD",
      "include_colab_link": true
    },
    "kernelspec": {
      "name": "python3",
      "display_name": "Python 3"
    },
    "language_info": {
      "name": "python"
    }
  },
  "cells": [
    {
      "cell_type": "markdown",
      "metadata": {
        "id": "view-in-github",
        "colab_type": "text"
      },
      "source": [
        "<a href=\"https://colab.research.google.com/github/caiocmello/news-mood/blob/main/4_Time_series_analysis.ipynb\" target=\"_parent\"><img src=\"https://colab.research.google.com/assets/colab-badge.svg\" alt=\"Open In Colab\"/></a>"
      ]
    },
    {
      "cell_type": "code",
      "execution_count": null,
      "metadata": {
        "id": "7ip1YE6Yvv34"
      },
      "outputs": [],
      "source": [
        "# Dependencies\n",
        "import pandas as pd\n",
        "import numpy as np\n",
        "import matplotlib.pyplot as plt\n",
        "import seaborn as sns"
      ]
    },
    {
      "cell_type": "code",
      "source": [
        "# Read in CSV file(s)\n",
        "df = pd.read_csv('bbc2022_sentiment_output_nodupli.csv', parse_dates=['created_at'], index_col = ['created_at'])\n",
        "\n",
        "# Check all is OK\n",
        "df.info()"
      ],
      "metadata": {
        "id": "5u_8sM5vw5KV"
      },
      "execution_count": null,
      "outputs": []
    },
    {
      "cell_type": "code",
      "source": [
        "# Create a 3-day, 7-day, and 30-day rolling mean of each variable in the df\n",
        "df['3_day_polarity_mean' ] = df.Polarity.rolling(3).mean()\n",
        "df['7_day_polarity_mean' ] = df.Polarity.rolling(7).mean()\n",
        "df['30_day_polarity_mean' ] = df.Polarity.rolling(30).mean()\n",
        "\n",
        "df['3_day_pos_mean' ] = df['Positive Polarity'].rolling(3).mean()\n",
        "df['7_day_pos_mean' ] = df['Positive Polarity'].rolling(7).mean()\n",
        "df['30_day_pos_mean' ] = df['Positive Polarity'].rolling(30).mean()\n",
        "\n",
        "df['3_day_neg_mean' ] = df['Negative Polarity'].rolling(3).mean()\n",
        "df['7_day_neg_mean' ] = df['Negative Polarity'].rolling(7).mean()\n",
        "df['30_day_neg_mean' ] = df['Negative Polarity'].rolling(30).mean()"
      ],
      "metadata": {
        "id": "VrNhd7v22rgw"
      },
      "execution_count": null,
      "outputs": []
    },
    {
      "cell_type": "code",
      "source": [
        "# Split by time period\n",
        "twenty_twelve = pd.DataFrame({'created_at':pd.date_range(start='2012-01-01', end='2021-12-31')})\n",
        "seventeen = pd.DataFrame({'created_at':pd.date_range(start='2017-01-01', end='2017-12-31')})\n",
        "nineteen = pd.DataFrame({'created_at':pd.date_range(start='2019-01-01', end='2019-12-31')})\n",
        "twenty_two = pd.DataFrame({'created_at':pd.date_range(start='2022-01-01', end='2017-07-24')})"
      ],
      "metadata": {
        "id": "LDmHOI1YVxUM"
      },
      "execution_count": null,
      "outputs": []
    },
    {
      "cell_type": "code",
      "source": [
        "# Create a 3-day, 7-day, and 30-day rolling mean of each variable in the 2012 df\n",
        "twenty_twelve['3_day_polarity_mean' ] = twenty_twelve.Polarity.rolling(3).mean()\n",
        "twenty_twelve['7_day_polarity_mean' ] = twenty_twelve.Polarity.rolling(7).mean()\n",
        "twenty_twelve['30_day_polarity_mean' ] = twenty_twelve.Polarity.rolling(30).mean()\n",
        "\n",
        "twenty_twelve['3_day_pos_mean' ] = twenty_twelve['Positive Polarity'].rolling(3).mean()\n",
        "twenty_twelve['7_day_pos_mean' ] = twenty_twelve['Positive Polarity'].rolling(7).mean()\n",
        "twenty_twelve['30_day_pos_mean' ] = twenty_twelve['Positive Polarity'].rolling(30).mean()\n",
        "\n",
        "twenty_twelve['3_day_neg_mean' ] = twenty_twelve['Negative Polarity'].rolling(3).mean()\n",
        "twenty_twelve['7_day_neg_mean' ] = twenty_twelve['Negative Polarity'].rolling(7).mean()\n",
        "twenty_twelve['30_day_neg_mean' ] = twenty_twelve['Negative Polarity'].rolling(30).mean()"
      ],
      "metadata": {
        "id": "dAdCD0q6VB1g"
      },
      "execution_count": null,
      "outputs": []
    },
    {
      "cell_type": "code",
      "source": [
        "# Create a 3-day, 7-day, and 30-day rolling mean of each variable in the 2017 df\n",
        "seventeen['3_day_polarity_mean' ] = seventeen.Polarity.rolling(3).mean()\n",
        "seventeen['7_day_polarity_mean' ] = seventeen.Polarity.rolling(7).mean()\n",
        "seventeen['30_day_polarity_mean' ] = seventeen.Polarity.rolling(30).mean()\n",
        "\n",
        "seventeen['3_day_pos_mean' ] = seventeen['Positive Polarity'].rolling(3).mean()\n",
        "seventeen['7_day_pos_mean' ] = seventeen['Positive Polarity'].rolling(7).mean()\n",
        "seventeen['30_day_pos_mean' ] = seventeen['Positive Polarity'].rolling(30).mean()\n",
        "\n",
        "seventeen['3_day_neg_mean' ] = seventeen['Negative Polarity'].rolling(3).mean()\n",
        "seventeen['7_day_neg_mean' ] = seventeen['Negative Polarity'].rolling(7).mean()\n",
        "seventeen['30_day_neg_mean' ] = seventeen['Negative Polarity'].rolling(30).mean()"
      ],
      "metadata": {
        "id": "SEK3h2Yy363O"
      },
      "execution_count": null,
      "outputs": []
    },
    {
      "cell_type": "code",
      "source": [
        "# Create a 3-day, 7-day, and 30-day rolling mean of each variable in the 2019 df\n",
        "nineteen['3_day_polarity_mean' ] = nineteen.Polarity.rolling(3).mean()\n",
        "nineteen['7_day_polarity_mean' ] = nineteen.Polarity.rolling(7).mean()\n",
        "nineteen['30_day_polarity_mean' ] = nineteen.Polarity.rolling(30).mean()\n",
        "\n",
        "nineteen['3_day_pos_mean' ] = nineteen['Positive Polarity'].rolling(3).mean()\n",
        "nineteen['7_day_pos_mean' ] = nineteen['Positive Polarity'].rolling(7).mean()\n",
        "nineteen['30_day_pos_mean' ] = nineteen['Positive Polarity'].rolling(30).mean()\n",
        "\n",
        "nineteen['3_day_neg_mean' ] = nineteen['Negative Polarity'].rolling(3).mean()\n",
        "nineteen['7_day_neg_mean' ] = nineteen['Negative Polarity'].rolling(7).mean()\n",
        "nineteen['30_day_neg_mean' ] = nineteen['Negative Polarity'].rolling(30).mean()"
      ],
      "metadata": {
        "id": "eXpsmD304gMP"
      },
      "execution_count": null,
      "outputs": []
    },
    {
      "cell_type": "code",
      "source": [
        "# Create a 3-day, 7-day, and 30-day rolling mean of each variable in the 2022 df\n",
        "twenty_two['3_day_polarity_mean' ] = twenty_two.Polarity.rolling(3).mean()\n",
        "twenty_two['7_day_polarity_mean' ] = twenty_two.Polarity.rolling(7).mean()\n",
        "twenty_two['30_day_polarity_mean' ] = twenty_two.Polarity.rolling(30).mean()\n",
        "\n",
        "twenty_two['3_day_pos_mean' ] = twenty_two['Positive Polarity'].rolling(3).mean()\n",
        "twenty_two['7_day_pos_mean' ] = twenty_two['Positive Polarity'].rolling(7).mean()\n",
        "twenty_two['30_day_pos_mean' ] = twenty_two['Positive Polarity'].rolling(30).mean()\n",
        "\n",
        "twenty_two['3_day_neg_mean' ] = twenty_two['Negative Polarity'].rolling(3).mean()\n",
        "twenty_two['7_day_neg_mean' ] = twenty_two['Negative Polarity'].rolling(7).mean()\n",
        "twenty_two['30_day_neg_mean' ] = twenty_two['Negative Polarity'].rolling(30).mean()"
      ],
      "metadata": {
        "id": "lt4akbtR4ppM"
      },
      "execution_count": null,
      "outputs": []
    },
    {
      "cell_type": "code",
      "source": [
        "# Simple polarity plot to check it worked\n",
        "fig, ax = plt.subplots()\n",
        "\n",
        "sns.lineplot(x = 'created_at',\n",
        "             y = '30_day_polarity_mean',\n",
        "             data = twenty_two,\n",
        "             label = 'Polarity')"
      ],
      "metadata": {
        "id": "8jGWjMfm9VEb"
      },
      "execution_count": null,
      "outputs": []
    },
    {
      "cell_type": "code",
      "source": [
        "# Plot 2017 polarity, pos, and neg scores over time\n",
        "sns.set(font_scale=1.1)\n",
        "fig, ax = plt.subplots(figsize=(15, 7.5), sharey=True)\n",
        "\n",
        "ax = sns.lineplot(x='created_at', y='30_day_polarity_mean', color = 'blue', data=seventeen)\n",
        "ax1 = sns.lineplot(x='created_at', y='30_day_pos_mean', color = 'green', data=seventeen)\n",
        "ax2 = sns.lineplot(x='created_at', y='30_day_neg_mean', color = 'red', data=seventeen)\n",
        "\n",
        "ax.title.set_text('2017')\n",
        "plt.legend(labels=[\"Polarity\",\"Positive Polarity\", \"Negative Polarity\"])\n",
        "ax.set(xlabel='Date', ylabel='Sentiment score')"
      ],
      "metadata": {
        "id": "VvmTGUfR-Icz"
      },
      "execution_count": null,
      "outputs": []
    },
    {
      "cell_type": "code",
      "source": [
        "# Plot 2019 polarity, pos, and neg scores over time\n",
        "sns.set(font_scale=1.1)\n",
        "fig, ax = plt.subplots(figsize=(15, 7.5), sharey=True)\n",
        "\n",
        "ax = sns.lineplot(x='created_at', y='30_day_polarity_mean', color = 'blue', data=nineteen)\n",
        "ax1 = sns.lineplot(x='created_at', y='30_day_pos_mean', color = 'green', data=nineteen)\n",
        "ax2 = sns.lineplot(x='created_at', y='30_day_neg_mean', color = 'red', data=nineteen)\n",
        "\n",
        "ax.title.set_text('2019')\n",
        "plt.legend(labels=[\"Polarity\",\"Positive Polarity\", \"Negative Polarity\"])\n",
        "ax.set(xlabel='Date', ylabel='Sentiment score')"
      ],
      "metadata": {
        "id": "9y3ks3MBC8pw"
      },
      "execution_count": null,
      "outputs": []
    },
    {
      "cell_type": "code",
      "source": [
        "# Plot 2019 polarity, pos, and neg scores over time\n",
        "sns.set(font_scale=1.1)\n",
        "style = dict(size=10, color='gray')\n",
        "fig, ax = plt.subplots(figsize=(15, 7.5), sharey=True)\n",
        "\n",
        "ax = sns.lineplot(x='created_at', y='30_day_polarity_mean', color = 'blue', data=twenty_two)\n",
        "ax1 = sns.lineplot(x='created_at', y='30_day_pos_mean', color = 'green', data=twenty_two)\n",
        "ax2 = sns.lineplot(x='created_at', y='30_day_neg_mean', color = 'red', data=twenty_two)\n",
        "\n",
        "ax.title.set_text('2022')\n",
        "plt.legend(labels=[\"Polarity\",\"Positive Polarity\", \"Negative Polarity\"])\n",
        "ax.set(xlabel='Date', ylabel='Sentiment score')"
      ],
      "metadata": {
        "id": "rgYhen44DMOI"
      },
      "execution_count": null,
      "outputs": []
    },
    {
      "cell_type": "code",
      "source": [
        "# Plot combined polarity, pos, and neg scores over time\n",
        "sns.set(font_scale=1.1)\n",
        "fig, ax = plt.subplots(figsize=(15, 7.5), sharey=True)\n",
        "\n",
        "ax = sns.lineplot(x='created_at', y='30_day_polarity_mean', color = 'blue', data=df)\n",
        "ax1 = sns.lineplot(x='created_at', y='30_day_pos_mean', color = 'green', data=df)\n",
        "ax2 = sns.lineplot(x='created_at', y='30_day_neg_mean', color = 'red', data=df)\n",
        "\n",
        "ax.title.set_text('Sentiment over time')\n",
        "plt.legend(labels=[\"Polarity\",\"Positive Polarity\", \"Negative Polarity\"])\n",
        "ax.set(xlabel='Date', ylabel='Sentiment score')"
      ],
      "metadata": {
        "id": "WJ3DoTfdE1R0"
      },
      "execution_count": null,
      "outputs": []
    }
  ]
}
